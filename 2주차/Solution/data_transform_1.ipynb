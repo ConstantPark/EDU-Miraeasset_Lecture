{
 "cells": [
  {
   "cell_type": "markdown",
   "metadata": {},
   "source": [
    "**단계 1:** 전처리에 사용할 패키지 로드 및 초기화 "
   ]
  },
  {
   "cell_type": "code",
   "execution_count": 3,
   "metadata": {},
   "outputs": [],
   "source": [
    "# 정규화에 사용할 데이터를 초기화 합니다.\n",
    "# 데이터를 학습과 테스트에 사용할 것을 구분 (데이터, 라벨) 합니다.\n",
    "\n",
    "import pandas as pd\n",
    "from sklearn.preprocessing import StandardScaler\n",
    "\n",
    "df_train = pd.DataFrame([\n",
    "        [2, 1, 0],\n",
    "        [3, 2, 0],\n",
    "        [3, 4, 0],\n",
    "        [5, 5, 1],\n",
    "        [7, 5, 1],\n",
    "        [2, 5, 0],\n",
    "        [8, 9, 1],\n",
    "        [9, 10, 1],\n",
    "        [6, 12, 1]\n",
    "    ], columns=['hour', 'attendance', 'pass'])\n",
    "df_test = pd.DataFrame([\n",
    "        [9, 2, 1],\n",
    "        [6, 10, 1],\n",
    "        [2, 4, 0]\n",
    "    ], columns=['hour', 'attendance', 'pass'])\n",
    "\n",
    "\n",
    "df_x_train = df_train.drop(['pass'], axis=1)\n",
    "df_x_test = df_test.drop(['pass'], axis=1)\n",
    "df_y_train = df_train['pass']\n",
    "df_y_test = df_test['pass']"
   ]
  },
  {
   "cell_type": "markdown",
   "metadata": {},
   "source": [
    "**단계 2:** Z 스코어 정규화"
   ]
  },
  {
   "cell_type": "code",
   "execution_count": 4,
   "metadata": {},
   "outputs": [
    {
     "name": "stdout",
     "output_type": "stream",
     "text": [
      "[[-1.20267559 -1.40552844]\n",
      " [-0.80178373 -1.11803399]\n",
      " [-0.80178373 -0.54304508]\n",
      " [ 0.         -0.25555063]\n",
      " [ 0.80178373 -0.25555063]\n",
      " [-1.20267559 -0.25555063]\n",
      " [ 1.20267559  0.89442719]\n",
      " [ 1.60356745  1.18192165]\n",
      " [ 0.40089186  1.75691055]]\n",
      "[[ 1.60356745 -1.11803399]\n",
      " [ 0.40089186  1.18192165]\n",
      " [-1.20267559 -0.54304508]]\n",
      "[0 0 0 1 1 0 1 1 1]\n",
      "[1 1 0]\n"
     ]
    }
   ],
   "source": [
    "# Z 스코어 정규화를 진행합니다.\n",
    "# Z 스코어 정규화는 평군을 0, 표준편차를 1.0으로 만드는 StandardScaler()를 사용합니다.\n",
    "# 이후, fit()함수를 사용하여 학습용 데이터의 분포를 추정하고, trasnform() 함수는 학습/검증용 데이터를 변환합니다.\n",
    "# StandardScaler()->fit()->transform, 이때 transform은 학습과 점증용 데이터에 대해서 각각 진행합니다.\n",
    "# fit()함수에는 train에 관련된 데이터를 사용합니다.\n",
    "\n",
    "transformer = StandardScaler()\n",
    "transformer.fit(df_x_train) \n",
    "x_train = transformer.transform(df_x_train)\n",
    "x_test = transformer.transform(df_x_test)\n",
    "\n",
    "y_train = df_y_train.values\n",
    "y_test = df_y_test.values\n",
    "\n",
    "print(x_train)\n",
    "print(x_test)\n",
    "print(y_train) #[0 0 0 1 1 0 1 1 1]\n",
    "print(y_test) #[1 1 0]"
   ]
  },
  {
   "cell_type": "markdown",
   "metadata": {},
   "source": [
    "**단계 3:** 다양한 정규화 전/후의 분포 비교"
   ]
  },
  {
   "cell_type": "code",
   "execution_count": 6,
   "metadata": {},
   "outputs": [],
   "source": [
    "# 패키지 import 및 데이터 초기화\n",
    "\n",
    "import pandas as pd\n",
    "from sklearn.preprocessing import MinMaxScaler\n",
    "from sklearn.preprocessing import StandardScaler\n",
    "import matplotlib.pyplot as plt\n",
    "import seaborn as sns\n",
    "\n",
    "df_train = pd.DataFrame([\n",
    "        [2, 1, 0],\n",
    "        [3, 2, 0],\n",
    "        [3, 4, 0],\n",
    "        [5, 5, 1],\n",
    "        [7, 5, 1],\n",
    "        [2, 5, 0],\n",
    "        [8, 9, 1],\n",
    "        [9, 10, 1],\n",
    "        [6, 12, 1]\n",
    "    ], columns=['hour', 'attendance', 'pass'])\n",
    "df_test = pd.DataFrame([\n",
    "        [9, 2, 1],\n",
    "        [6, 10, 1],\n",
    "        [2, 4, 0]\n",
    "    ], columns=['hour', 'attendance', 'pass'])\n",
    "\n",
    "\n",
    "df_x_train = df_train.drop(['pass'], axis=1)\n",
    "df_x_test = df_test.drop(['pass'], axis=1)\n",
    "df_y_train = df_train['pass']\n",
    "df_y_test = df_test['pass']"
   ]
  },
  {
   "cell_type": "code",
   "execution_count": 7,
   "metadata": {},
   "outputs": [
    {
     "data": {
      "image/png": "[encoded data removed]",
      "text/plain": [
       "<Figure size 440.625x360 with 6 Axes>"
      ]
     },
     "metadata": {
      "needs_background": "light"
     },
     "output_type": "display_data"
    }
   ],
   "source": [
    "# 다양한 정규화 방법을 사용하여 정규화 전/후의 분포를 확인합니다.\n",
    "\n",
    "# 최소-최대 정규화를 사용합니다.\n",
    "transformer = MinMaxScaler()\n",
    "transformer.fit(df_x_train)\n",
    "x_train_minmax = transformer.transform(df_x_train)\n",
    "\n",
    "# Z 스코어 정규화 (Standard)를 사용합니다.\n",
    "transformer = StandardScaler()\n",
    "transformer.fit(df_x_train)\n",
    "x_train_standard = transformer.transform(df_x_train)\n",
    "\n",
    "x_train = df_train.values\n",
    "x_test = df_test.values\n",
    "\n",
    "# 각 정규화의 결과를 출력합니다.\n",
    "\n",
    "df_x_train['scaler'] = 'no'\n",
    "df_x_train_minmax = pd.DataFrame(x_train_minmax, columns=['hour', 'attendance'])\n",
    "df_x_train_minmax['scaler'] = 'minmax'\n",
    "df_x_train_standard = pd.DataFrame(x_train_standard, columns=['hour', 'attendance'])\n",
    "df_x_train_standard['scaler'] = 'standard'\n",
    "sns.pairplot(data=pd.concat([df_x_train, df_x_train_minmax, df_x_train_standard], axis=0), hue='scaler', diag_kind='hist')\n",
    "plt.show()"
   ]
  },
  {
   "cell_type": "code",
   "execution_count": null,
   "metadata": {},
   "outputs": [],
   "source": []
  }
 ],
 "metadata": {
  "kernelspec": {
   "display_name": "Python 3",
   "language": "python",
   "name": "python3"
  },
  "language_info": {
   "codemirror_mode": {
    "name": "ipython",
    "version": 3
   },
   "file_extension": ".py",
   "mimetype": "text/x-python",
   "name": "python",
   "nbconvert_exporter": "python",
   "pygments_lexer": "ipython3",
   "version": "3.7.3"
  }
 },
 "nbformat": 4,
 "nbformat_minor": 2
}
